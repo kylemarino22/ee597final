{
 "cells": [
  {
   "cell_type": "markdown",
   "metadata": {},
   "source": [
    "Ok so what do I want to do for this project. First is creating something that shows the default case, lifo vs fifo. Then I'll create multiple networks and show performance between them. \n",
    "\n",
    "I can make a few cases:\n",
    "\n",
    "Diamond network\n",
    "     B \n",
    "   /    \\\n",
    "A         D\n",
    "   \\    /\n",
    "     C\n",
    "\n",
    "6 Node Network\n",
    "     \n",
    "    B  - C \n",
    "  /        \\\n",
    "A   | \\ |   D\n",
    "  \\         /\n",
    "    E -  F "
   ]
  },
  {
   "cell_type": "markdown",
   "metadata": {},
   "source": [
    "Ok need to think a bit. How do I handle receiving two packets at a time?\n",
    "\n",
    "A router can only receive one packet at a time. I probably need to create some sort of arbitration mechanism so that whatever decision was made last time doesn't get chosen twice in a row. \n",
    "\n",
    "Does the packet have to be retransmitted if there's a collision?\n",
    "Surely not right?\n"
   ]
  },
  {
   "cell_type": "markdown",
   "metadata": {},
   "source": [
    "Main result of the project would be to see on average what the throughput is for N nodes for LIFO vs FIFO.\n",
    "\n",
    "I'll generate 100 random networks for 3-10 nodes, with a varying number of edges and etxs ranging from 0.5 to 1 and ticks ranging from 1-5.\n",
    "\n",
    "Then I'll simulate adding packets to the network and each packet will measure how long it takes to reach the sink. \n",
    "\n",
    "I'll run two tests, continuous, and bursty. \n",
    "\n",
    "\n",
    "So I need to write the random network generator.\n",
    "Then create a queue gradient. \n",
    "Also make lose packets with probabilty 1/etx.\n"
   ]
  }
 ],
 "metadata": {
  "language_info": {
   "name": "python"
  }
 },
 "nbformat": 4,
 "nbformat_minor": 2
}
